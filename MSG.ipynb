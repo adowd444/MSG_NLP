{
  "nbformat": 4,
  "nbformat_minor": 0,
  "metadata": {
    "colab": {
      "name": "MSG.ipynb",
      "provenance": [],
      "authorship_tag": "ABX9TyNUOgzfjftvdEvxlf5yM+RW",
      "include_colab_link": true
    },
    "kernelspec": {
      "name": "python3",
      "display_name": "Python 3"
    },
    "language_info": {
      "name": "python"
    }
  },
  "cells": [
    {
      "cell_type": "markdown",
      "metadata": {
        "id": "view-in-github",
        "colab_type": "text"
      },
      "source": [
        "<a href=\"https://colab.research.google.com/github/adowd444/MSG_NLP/blob/main/MSG.ipynb\" target=\"_parent\"><img src=\"https://colab.research.google.com/assets/colab-badge.svg\" alt=\"Open In Colab\"/></a>"
      ]
    },
    {
      "cell_type": "code",
      "execution_count": null,
      "metadata": {
        "colab": {
          "base_uri": "https://localhost:8080/"
        },
        "id": "N5z0ZrOMOPXd",
        "outputId": "8970962e-6041-43f7-c991-2b06a776ee01"
      },
      "outputs": [
        {
          "output_type": "stream",
          "name": "stdout",
          "text": [
            "Collecting testfixtures\n",
            "  Downloading testfixtures-6.18.5-py2.py3-none-any.whl (95 kB)\n",
            "\u001b[?25l\r\u001b[K     |███▍                            | 10 kB 22.8 MB/s eta 0:00:01\r\u001b[K     |██████▉                         | 20 kB 3.2 MB/s eta 0:00:01\r\u001b[K     |██████████▎                     | 30 kB 4.5 MB/s eta 0:00:01\r\u001b[K     |█████████████▊                  | 40 kB 5.8 MB/s eta 0:00:01\r\u001b[K     |█████████████████▏              | 51 kB 6.8 MB/s eta 0:00:01\r\u001b[K     |████████████████████▋           | 61 kB 8.0 MB/s eta 0:00:01\r\u001b[K     |████████████████████████        | 71 kB 8.4 MB/s eta 0:00:01\r\u001b[K     |███████████████████████████▍    | 81 kB 8.4 MB/s eta 0:00:01\r\u001b[K     |██████████████████████████████▉ | 92 kB 9.2 MB/s eta 0:00:01\r\u001b[K     |████████████████████████████████| 95 kB 3.4 MB/s \n",
            "\u001b[?25hInstalling collected packages: testfixtures\n",
            "Successfully installed testfixtures-6.18.5\n"
          ]
        }
      ],
      "source": [
        "import pandas as pd\n",
        "import numpy as np\n",
        "from tqdm import tqdm\n",
        "tqdm.pandas(desc=\"progress-bar\")\n",
        "from gensim.models import Doc2Vec\n",
        "from sklearn import utils\n",
        "from sklearn.model_selection import train_test_split\n",
        "import gensim\n",
        "from sklearn.linear_model import LogisticRegression\n",
        "from gensim.models.doc2vec import TaggedDocument\n",
        "import re\n",
        "import seaborn as sns\n",
        "import matplotlib.pyplot as plt\n",
        "from bs4 import BeautifulSoup\n",
        "import nltk\n",
        "from nltk.corpus import stopwords\n",
        "import multiprocessing\n",
        "from sklearn.metrics import accuracy_score, f1_score\n",
        "! pip install testfixtures\n",
        "from gensim.test.test_doc2vec import ConcatenatedDoc2Vec"
      ]
    },
    {
      "cell_type": "code",
      "source": [
        "df = pd.read_csv('corp.csv')\n",
        "df.head()"
      ],
      "metadata": {
        "colab": {
          "base_uri": "https://localhost:8080/",
          "height": 206
        },
        "id": "hyLjhe1nOcvS",
        "outputId": "5ed66fe4-a9ec-430c-ea16-95e03ff3ab8e"
      },
      "execution_count": null,
      "outputs": [
        {
          "output_type": "execute_result",
          "data": {
            "text/plain": [
              "   Unnamed: 0                                               text  \\\n",
              "0           0  holcomb vetoes bill would given indiana legisl...   \n",
              "1           1  transmission lines wind turbines kansas city m...   \n",
              "2           2  text middletown ohio fox19 man accused disposi...   \n",
              "3           3  generally cloudy high 31f winds nnw 10 15 mph ...   \n",
              "4           4  mix clouds sun early followed cloudy skies aft...   \n",
              "\n",
              "               label  \n",
              "0     local politics  \n",
              "1  community matters  \n",
              "2              crime  \n",
              "3              crime  \n",
              "4  community matters  "
            ],
            "text/html": [
              "\n",
              "  <div id=\"df-3c711235-8d9d-40de-9c80-92b3344f7862\">\n",
              "    <div class=\"colab-df-container\">\n",
              "      <div>\n",
              "<style scoped>\n",
              "    .dataframe tbody tr th:only-of-type {\n",
              "        vertical-align: middle;\n",
              "    }\n",
              "\n",
              "    .dataframe tbody tr th {\n",
              "        vertical-align: top;\n",
              "    }\n",
              "\n",
              "    .dataframe thead th {\n",
              "        text-align: right;\n",
              "    }\n",
              "</style>\n",
              "<table border=\"1\" class=\"dataframe\">\n",
              "  <thead>\n",
              "    <tr style=\"text-align: right;\">\n",
              "      <th></th>\n",
              "      <th>Unnamed: 0</th>\n",
              "      <th>text</th>\n",
              "      <th>label</th>\n",
              "    </tr>\n",
              "  </thead>\n",
              "  <tbody>\n",
              "    <tr>\n",
              "      <th>0</th>\n",
              "      <td>0</td>\n",
              "      <td>holcomb vetoes bill would given indiana legisl...</td>\n",
              "      <td>local politics</td>\n",
              "    </tr>\n",
              "    <tr>\n",
              "      <th>1</th>\n",
              "      <td>1</td>\n",
              "      <td>transmission lines wind turbines kansas city m...</td>\n",
              "      <td>community matters</td>\n",
              "    </tr>\n",
              "    <tr>\n",
              "      <th>2</th>\n",
              "      <td>2</td>\n",
              "      <td>text middletown ohio fox19 man accused disposi...</td>\n",
              "      <td>crime</td>\n",
              "    </tr>\n",
              "    <tr>\n",
              "      <th>3</th>\n",
              "      <td>3</td>\n",
              "      <td>generally cloudy high 31f winds nnw 10 15 mph ...</td>\n",
              "      <td>crime</td>\n",
              "    </tr>\n",
              "    <tr>\n",
              "      <th>4</th>\n",
              "      <td>4</td>\n",
              "      <td>mix clouds sun early followed cloudy skies aft...</td>\n",
              "      <td>community matters</td>\n",
              "    </tr>\n",
              "  </tbody>\n",
              "</table>\n",
              "</div>\n",
              "      <button class=\"colab-df-convert\" onclick=\"convertToInteractive('df-3c711235-8d9d-40de-9c80-92b3344f7862')\"\n",
              "              title=\"Convert this dataframe to an interactive table.\"\n",
              "              style=\"display:none;\">\n",
              "        \n",
              "  <svg xmlns=\"http://www.w3.org/2000/svg\" height=\"24px\"viewBox=\"0 0 24 24\"\n",
              "       width=\"24px\">\n",
              "    <path d=\"M0 0h24v24H0V0z\" fill=\"none\"/>\n",
              "    <path d=\"M18.56 5.44l.94 2.06.94-2.06 2.06-.94-2.06-.94-.94-2.06-.94 2.06-2.06.94zm-11 1L8.5 8.5l.94-2.06 2.06-.94-2.06-.94L8.5 2.5l-.94 2.06-2.06.94zm10 10l.94 2.06.94-2.06 2.06-.94-2.06-.94-.94-2.06-.94 2.06-2.06.94z\"/><path d=\"M17.41 7.96l-1.37-1.37c-.4-.4-.92-.59-1.43-.59-.52 0-1.04.2-1.43.59L10.3 9.45l-7.72 7.72c-.78.78-.78 2.05 0 2.83L4 21.41c.39.39.9.59 1.41.59.51 0 1.02-.2 1.41-.59l7.78-7.78 2.81-2.81c.8-.78.8-2.07 0-2.86zM5.41 20L4 18.59l7.72-7.72 1.47 1.35L5.41 20z\"/>\n",
              "  </svg>\n",
              "      </button>\n",
              "      \n",
              "  <style>\n",
              "    .colab-df-container {\n",
              "      display:flex;\n",
              "      flex-wrap:wrap;\n",
              "      gap: 12px;\n",
              "    }\n",
              "\n",
              "    .colab-df-convert {\n",
              "      background-color: #E8F0FE;\n",
              "      border: none;\n",
              "      border-radius: 50%;\n",
              "      cursor: pointer;\n",
              "      display: none;\n",
              "      fill: #1967D2;\n",
              "      height: 32px;\n",
              "      padding: 0 0 0 0;\n",
              "      width: 32px;\n",
              "    }\n",
              "\n",
              "    .colab-df-convert:hover {\n",
              "      background-color: #E2EBFA;\n",
              "      box-shadow: 0px 1px 2px rgba(60, 64, 67, 0.3), 0px 1px 3px 1px rgba(60, 64, 67, 0.15);\n",
              "      fill: #174EA6;\n",
              "    }\n",
              "\n",
              "    [theme=dark] .colab-df-convert {\n",
              "      background-color: #3B4455;\n",
              "      fill: #D2E3FC;\n",
              "    }\n",
              "\n",
              "    [theme=dark] .colab-df-convert:hover {\n",
              "      background-color: #434B5C;\n",
              "      box-shadow: 0px 1px 3px 1px rgba(0, 0, 0, 0.15);\n",
              "      filter: drop-shadow(0px 1px 2px rgba(0, 0, 0, 0.3));\n",
              "      fill: #FFFFFF;\n",
              "    }\n",
              "  </style>\n",
              "\n",
              "      <script>\n",
              "        const buttonEl =\n",
              "          document.querySelector('#df-3c711235-8d9d-40de-9c80-92b3344f7862 button.colab-df-convert');\n",
              "        buttonEl.style.display =\n",
              "          google.colab.kernel.accessAllowed ? 'block' : 'none';\n",
              "\n",
              "        async function convertToInteractive(key) {\n",
              "          const element = document.querySelector('#df-3c711235-8d9d-40de-9c80-92b3344f7862');\n",
              "          const dataTable =\n",
              "            await google.colab.kernel.invokeFunction('convertToInteractive',\n",
              "                                                     [key], {});\n",
              "          if (!dataTable) return;\n",
              "\n",
              "          const docLinkHtml = 'Like what you see? Visit the ' +\n",
              "            '<a target=\"_blank\" href=https://colab.research.google.com/notebooks/data_table.ipynb>data table notebook</a>'\n",
              "            + ' to learn more about interactive tables.';\n",
              "          element.innerHTML = '';\n",
              "          dataTable['output_type'] = 'display_data';\n",
              "          await google.colab.output.renderOutput(dataTable, element);\n",
              "          const docLink = document.createElement('div');\n",
              "          docLink.innerHTML = docLinkHtml;\n",
              "          element.appendChild(docLink);\n",
              "        }\n",
              "      </script>\n",
              "    </div>\n",
              "  </div>\n",
              "  "
            ]
          },
          "metadata": {},
          "execution_count": 4
        }
      ]
    },
    {
      "cell_type": "code",
      "source": [
        "df.shape"
      ],
      "metadata": {
        "colab": {
          "base_uri": "https://localhost:8080/"
        },
        "id": "w4iJDmv7OhVy",
        "outputId": "3b2ee93b-953b-45b3-f1a8-8a630e0c616f"
      },
      "execution_count": null,
      "outputs": [
        {
          "output_type": "execute_result",
          "data": {
            "text/plain": [
              "(1849, 3)"
            ]
          },
          "metadata": {},
          "execution_count": 4
        }
      ]
    },
    {
      "cell_type": "code",
      "source": [
        "#get total words in all text\n",
        "df.index = range(1849)\n",
        "df['text'].apply(lambda x: len(x.split(' '))).sum()"
      ],
      "metadata": {
        "colab": {
          "base_uri": "https://localhost:8080/"
        },
        "id": "-NhlboL8OryT",
        "outputId": "42781a00-ae9e-48ac-e2c0-cdcf33d9fdd0"
      },
      "execution_count": null,
      "outputs": [
        {
          "output_type": "execute_result",
          "data": {
            "text/plain": [
              "733885"
            ]
          },
          "metadata": {},
          "execution_count": 5
        }
      ]
    },
    {
      "cell_type": "code",
      "source": [
        "cnt_pro = df['label'].value_counts()\n",
        "\n",
        "plt.figure(figsize=(12,4))\n",
        "sns.barplot(cnt_pro.index, cnt_pro.values, alpha=0.8, palette='spring')\n",
        "plt.ylabel('Number of Occurrences', fontsize=12)\n",
        "plt.xlabel('Cluster Names', fontsize=12)\n",
        "plt.xticks(rotation=90)\n",
        "plt.show();"
      ],
      "metadata": {
        "colab": {
          "base_uri": "https://localhost:8080/",
          "height": 428
        },
        "id": "8wLraVhEOxM6",
        "outputId": "2a58ed04-5041-4500-b9ee-e31157d7d96b"
      },
      "execution_count": null,
      "outputs": [
        {
          "output_type": "stream",
          "name": "stderr",
          "text": [
            "/usr/local/lib/python3.7/dist-packages/seaborn/_decorators.py:43: FutureWarning: Pass the following variables as keyword args: x, y. From version 0.12, the only valid positional argument will be `data`, and passing other arguments without an explicit keyword will result in an error or misinterpretation.\n",
            "  FutureWarning\n"
          ]
        },
        {
          "output_type": "display_data",
          "data": {
            "text/plain": [
              "<Figure size 864x288 with 1 Axes>"
            ],
            "image/png": "[encoded data removed]"
          },
          "metadata": {
            "needs_background": "light"
          }
        }
      ]
    },
    {
      "cell_type": "code",
      "source": [
        "def cleanText(text):\n",
        "    text = BeautifulSoup(text, \"lxml\").text\n",
        "    text = re.sub(r'\\|\\|\\|', r' ', text) \n",
        "    text = re.sub(r'http\\S+', r'<URL>', text)\n",
        "    text = text.lower()\n",
        "    text = text.replace('x', '')\n",
        "    return text\n",
        "df['text'] = df['text'].apply(cleanText)"
      ],
      "metadata": {
        "id": "gHgO1-oPPDoj"
      },
      "execution_count": null,
      "outputs": []
    },
    {
      "cell_type": "code",
      "source": [
        "train, test = train_test_split(df, test_size=0.3, random_state=42)\n",
        "nltk.download('punkt')\n",
        "\n",
        "def tokenize_text(text):\n",
        "    tokens = []\n",
        "    for sent in nltk.sent_tokenize(text):\n",
        "        for word in nltk.word_tokenize(sent):\n",
        "            if len(word) < 2:\n",
        "                continue\n",
        "            tokens.append(word.lower())\n",
        "    return tokens\n",
        "train_tagged = train.apply(\n",
        "    lambda r: TaggedDocument(words=tokenize_text(r['text']), tags=[r.label]), axis=1)\n",
        "test_tagged = test.apply(\n",
        "    lambda r: TaggedDocument(words=tokenize_text(r['text']), tags=[r.label]), axis=1)"
      ],
      "metadata": {
        "colab": {
          "base_uri": "https://localhost:8080/"
        },
        "id": "gUm5mJbJPYNG",
        "outputId": "06d12247-5609-4948-f9dd-6be7d01b164b"
      },
      "execution_count": null,
      "outputs": [
        {
          "output_type": "stream",
          "name": "stdout",
          "text": [
            "[nltk_data] Downloading package punkt to /root/nltk_data...\n",
            "[nltk_data]   Package punkt is already up-to-date!\n"
          ]
        }
      ]
    },
    {
      "cell_type": "code",
      "source": [
        "train_tagged.values[30]"
      ],
      "metadata": {
        "colab": {
          "base_uri": "https://localhost:8080/"
        },
        "id": "vRGC_g3HP2oc",
        "outputId": "8b97fbc8-b0c0-4f05-cc8c-06075460d45c"
      },
      "execution_count": null,
      "outputs": [
        {
          "output_type": "execute_result",
          "data": {
            "text/plain": [
              "TaggedDocument(words=['young', 'teens', 'able', 'follow', 'older', 'siblings', 'footsteps', 'vaccinated', 'indiana', 'adolescents', 'ages', '12', '15', 'able', 'make', 'appointment', 'vaccination', 'soon', 'thursday', 'centers', 'disease', 'control', 'prevention', 'federal', 'committee', 'issued', 'favorable', 'recommendation', 'indiana', 'department', 'health', 'posted', 'notice', 'vaccine', 'website', 'signup', 'process', 'awaiting', 'federal', 'agency', 'final', 'joseph', 'county', 'mark', 'fo', 'deputy', 'health', 'officer', 'said', 'heard', 'adolescents', 'getting', 'vaccines', 'wednesday', 'means', 'state', 'site', 'register', 'able', 'register', 'children', 'ample', 'amount', 'vaccine', 'available', 'vaccination', 'cvs', 'also', 'said', 'wednesday', 'afternoon', 'new', 'vaccination', 'group', 'could', 'register', 'shots', 'indiana', 'cvs', 'new', 'vaccine', 'group', 'adds', 'county', 'numbers', 'approaching', 'herd', 'immunity', 'fo', 'said', 'new', 'vaccination', 'ages', 'go', 'long', 'way', 'getting', 'schools', 'back', 'normal', 'suspect', 'proportion', 'people', 'rush', 'get', 'children', 'signed', 'openings', 'handle', 'fo', 'said', 'think', 'important', 'us', 'get', 'back', 'normal', 'school', 'pfizer', 'received', 'emergency', 'use', 'authorization', 'age', 'group', 'monday', 'food', 'drug', 'administration', 'vaccine', 'approved', 'anyone', 'age', 'age', '18', 'need', 'parental', 'consent', 'vaccinated', 'consent', 'form', 'completed', 'parents', 'teens', 'making', 'appointment', 'need', 'make', 'sure', 'clinic', 'offers', 'pfizer', 'two', 'vaccines', 'approved', 'age', 'teenagers', 'need', 'parent', 'guardian', 'present', 'get', 'vaccine', 'bring', 'signed', 'note', 'parent', 'whether', 'local', 'pediatricians', 'offering', 'pfizer', 'vaccine', 'new', 'age', 'groups', 'depends', 'upon', 'medical', 'facilities', 'ability', 'store', 'vaccine', 'dr', 'james', 'harris', 'allergist', 'spokesman', 'south', 'bend', 'clinic', 'said', 'clinic', 'offers', 'moderna', 'vaccine', 'said', 'wednesday', 'storage', 'capabilities', 'needed', 'pfizer', 'vaccine', 'prevented', 'clinic', 'offering', 'said', 'administered', 'vaccine', 'many', 'pfizer', 'vaccine', 'needs', 'kept', 'much', 'lower', 'temperature', 'storage', 'said', 'handled', 'initial', 'rush', 'people', 'seeking', 'vaccinated', 'clinic', 'seeing', 'people', 'asking', 'doctors', 'questions', 'harris', 'said', 'many', 'patients', 'end', 'getting', 'vaccinated', 'speaking', 'doctor', 'hopes', 'people', 'questions', 'seek', 'medical', 'giving', 'vaccines', 'people', 'spoken', 'doctors', 'like', 'basis', 'harris', 'said', 'still', 'giving', 'vaccines', 'regular', 'known', 'eactly', 'younger', 'children', 'eligible', 'vaccinated', 'indiana', 'state', 'health', 'commissioner', 'kristina', 'bo', 'said', 'last', 'week', 'heard', 'approval', 'ages', 'could', 'come', 'teens', 'lag', 'rest', 'population', 'vaccinated', 'indiana', 'population', '16', 'older', 'least', 'one', 'shot', '23', 'ages', '16', '19', 'fall'], tags=['healthcare'])"
            ]
          },
          "metadata": {},
          "execution_count": 15
        }
      ]
    },
    {
      "cell_type": "code",
      "source": [
        "cores = multiprocessing.cpu_count()"
      ],
      "metadata": {
        "id": "hoctsVgjQDNo"
      },
      "execution_count": null,
      "outputs": []
    },
    {
      "cell_type": "code",
      "source": [
        "#distributed bag of words model\n",
        "odel_dbow = Doc2Vec(dm=0, vector_size=100, negative=5, hs=0, min_count=2, sample = 0, workers=cores)\n",
        "model_dbow.build_vocab([x for x in tqdm(train_tagged.values)])"
      ],
      "metadata": {
        "colab": {
          "base_uri": "https://localhost:8080/"
        },
        "id": "jlY7C-48QG5Q",
        "outputId": "536e755c-9d7a-4062-e143-84e548089fe8"
      },
      "execution_count": null,
      "outputs": [
        {
          "output_type": "stream",
          "name": "stderr",
          "text": [
            "100%|██████████| 1294/1294 [00:00<00:00, 1668438.17it/s]\n"
          ]
        }
      ]
    },
    {
      "cell_type": "code",
      "source": [
        "%%time\n",
        "for epoch in range(10):\n",
        "    model_dbow.train(utils.shuffle([x for x in tqdm(train_tagged.values)]), total_examples=len(train_tagged.values), epochs=1)\n",
        "    model_dbow.alpha -= 0.002\n",
        "    model_dbow.min_alpha = model_dbow.alpha"
      ],
      "metadata": {
        "colab": {
          "base_uri": "https://localhost:8080/"
        },
        "id": "1_C8GN1jQHL1",
        "outputId": "aedbb187-c2f2-4b75-a2fb-44e221043e40"
      },
      "execution_count": null,
      "outputs": [
        {
          "output_type": "stream",
          "name": "stderr",
          "text": [
            "100%|██████████| 1294/1294 [00:00<00:00, 1194153.88it/s]\n",
            "100%|██████████| 1294/1294 [00:00<00:00, 2069957.81it/s]\n",
            "100%|██████████| 1294/1294 [00:00<00:00, 2121747.22it/s]\n",
            "100%|██████████| 1294/1294 [00:00<00:00, 2037323.34it/s]\n",
            "100%|██████████| 1294/1294 [00:00<00:00, 1548481.99it/s]\n",
            "100%|██████████| 1294/1294 [00:00<00:00, 1003778.32it/s]\n",
            "100%|██████████| 1294/1294 [00:00<00:00, 2226181.04it/s]\n",
            "100%|██████████| 1294/1294 [00:00<00:00, 1544076.64it/s]\n",
            "100%|██████████| 1294/1294 [00:00<00:00, 788526.71it/s]\n",
            "100%|██████████| 1294/1294 [00:00<00:00, 2317433.55it/s]\n"
          ]
        },
        {
          "output_type": "stream",
          "name": "stdout",
          "text": [
            "CPU times: user 9.64 s, sys: 122 ms, total: 9.76 s\n",
            "Wall time: 5.36 s\n"
          ]
        }
      ]
    },
    {
      "cell_type": "code",
      "source": [
        "def vec_for_learning(model, tagged_docs):\n",
        "    sents = tagged_docs.values\n",
        "    targets, regressors = zip(*[(doc.tags[0], model.infer_vector(doc.words, steps=20)) for doc in sents])\n",
        "    return targets, regressors"
      ],
      "metadata": {
        "id": "vxHpG7AUQHVH"
      },
      "execution_count": null,
      "outputs": []
    },
    {
      "cell_type": "code",
      "source": [
        "y_train, X_train = vec_for_learning(model_dbow, train_tagged)\n",
        "y_test, X_test = vec_for_learning(model_dbow, test_tagged)"
      ],
      "metadata": {
        "id": "TRIXGg5jRmlk"
      },
      "execution_count": null,
      "outputs": []
    },
    {
      "cell_type": "code",
      "source": [
        "logreg = LogisticRegression(n_jobs=1, C=1e5)\n",
        "logreg.fit(X_train, y_train)\n",
        "y_pred = logreg.predict(X_test)"
      ],
      "metadata": {
        "colab": {
          "base_uri": "https://localhost:8080/"
        },
        "id": "rWbBh57URm4i",
        "outputId": "1746c5ca-5df6-4ead-f3eb-ba3118eeb6bb"
      },
      "execution_count": null,
      "outputs": [
        {
          "output_type": "stream",
          "name": "stderr",
          "text": [
            "/usr/local/lib/python3.7/dist-packages/sklearn/linear_model/_logistic.py:818: ConvergenceWarning: lbfgs failed to converge (status=1):\n",
            "STOP: TOTAL NO. of ITERATIONS REACHED LIMIT.\n",
            "\n",
            "Increase the number of iterations (max_iter) or scale the data as shown in:\n",
            "    https://scikit-learn.org/stable/modules/preprocessing.html\n",
            "Please also refer to the documentation for alternative solver options:\n",
            "    https://scikit-learn.org/stable/modules/linear_model.html#logistic-regression\n",
            "  extra_warning_msg=_LOGISTIC_SOLVER_CONVERGENCE_MSG,\n"
          ]
        }
      ]
    },
    {
      "cell_type": "code",
      "source": [
        "print('Testing accuracy %s' % accuracy_score(y_test, y_pred))\n",
        "print('Testing F1 score: {}'.format(f1_score(y_test, y_pred, average='weighted')))"
      ],
      "metadata": {
        "colab": {
          "base_uri": "https://localhost:8080/"
        },
        "id": "LPdn5rubRm76",
        "outputId": "b4bc0d50-9c26-4d25-970a-3108ce44f6e5"
      },
      "execution_count": null,
      "outputs": [
        {
          "output_type": "stream",
          "name": "stdout",
          "text": [
            "Testing accuracy 0.8954954954954955\n",
            "Testing F1 score: 0.8952047873840258\n"
          ]
        }
      ]
    },
    {
      "cell_type": "code",
      "source": [
        "#distributed memory model\n",
        "model_dmm = Doc2Vec(dm=1, dm_mean=1, vector_size=100, window=10, negative=5, min_count=1, workers=5, alpha=0.065, min_alpha=0.065)\n",
        "model_dmm.build_vocab([x for x in tqdm(train_tagged.values)])"
      ],
      "metadata": {
        "colab": {
          "base_uri": "https://localhost:8080/"
        },
        "id": "JqT-DuRDRm-P",
        "outputId": "73661f5a-eeb6-4d31-b120-81afedc7b17d"
      },
      "execution_count": null,
      "outputs": [
        {
          "output_type": "stream",
          "name": "stderr",
          "text": [
            "100%|██████████| 1294/1294 [00:00<00:00, 952013.57it/s]\n"
          ]
        }
      ]
    },
    {
      "cell_type": "code",
      "source": [
        "%%time\n",
        "for epoch in range(10):\n",
        "    model_dmm.train(utils.shuffle([x for x in tqdm(train_tagged.values)]), total_examples=len(train_tagged.values), epochs=1)\n",
        "    model_dmm.alpha -= 0.002\n",
        "    model_dmm.min_alpha = model_dmm.alpha"
      ],
      "metadata": {
        "colab": {
          "base_uri": "https://localhost:8080/"
        },
        "id": "qJMt07-sSQl_",
        "outputId": "8e6c7552-177b-417e-80be-507f857a0bb1"
      },
      "execution_count": null,
      "outputs": [
        {
          "output_type": "stream",
          "name": "stderr",
          "text": [
            "100%|██████████| 1294/1294 [00:00<00:00, 1318617.44it/s]\n",
            "100%|██████████| 1294/1294 [00:00<00:00, 1518162.06it/s]\n",
            "100%|██████████| 1294/1294 [00:00<00:00, 2471507.00it/s]\n",
            "100%|██████████| 1294/1294 [00:00<00:00, 2673610.53it/s]\n",
            "100%|██████████| 1294/1294 [00:00<00:00, 2655298.13it/s]\n",
            "100%|██████████| 1294/1294 [00:00<00:00, 2621946.56it/s]\n",
            "100%|██████████| 1294/1294 [00:00<00:00, 1142616.71it/s]\n",
            "100%|██████████| 1294/1294 [00:00<00:00, 1162688.38it/s]\n",
            "100%|██████████| 1294/1294 [00:00<00:00, 1560951.79it/s]\n",
            "100%|██████████| 1294/1294 [00:00<00:00, 1624492.48it/s]\n"
          ]
        },
        {
          "output_type": "stream",
          "name": "stdout",
          "text": [
            "CPU times: user 16.1 s, sys: 419 ms, total: 16.6 s\n",
            "Wall time: 9.31 s\n"
          ]
        }
      ]
    },
    {
      "cell_type": "code",
      "source": [
        "y_train, X_train = vec_for_learning(model_dmm, train_tagged)\n",
        "y_test, X_test = vec_for_learning(model_dmm, test_tagged)\n",
        "\n",
        "logreg.fit(X_train, y_train)\n",
        "y_pred = logreg.predict(X_test)\n",
        "\n",
        "print('Testing accuracy %s' % accuracy_score(y_test, y_pred))\n",
        "print('Testing F1 score: {}'.format(f1_score(y_test, y_pred, average='weighted')))"
      ],
      "metadata": {
        "colab": {
          "base_uri": "https://localhost:8080/"
        },
        "id": "Eco6fEanSQoR",
        "outputId": "fff25b0c-7425-4912-d52f-84b71b52a8d4"
      },
      "execution_count": null,
      "outputs": [
        {
          "output_type": "stream",
          "name": "stdout",
          "text": [
            "Testing accuracy 0.8324324324324325\n",
            "Testing F1 score: 0.83260912028664\n"
          ]
        }
      ]
    },
    {
      "cell_type": "code",
      "source": [
        "#distributed memory using concatenated doc2vec\n",
        "model_dbow.delete_temporary_training_data(keep_doctags_vectors=True, keep_inference=True)\n",
        "model_dmm.delete_temporary_training_data(keep_doctags_vectors=True, keep_inference=True)"
      ],
      "metadata": {
        "id": "kQV9YZIsSQqn"
      },
      "execution_count": null,
      "outputs": []
    },
    {
      "cell_type": "code",
      "source": [
        "new_model = ConcatenatedDoc2Vec([model_dbow, model_dmm])"
      ],
      "metadata": {
        "id": "M8BNpydjSQtN"
      },
      "execution_count": null,
      "outputs": []
    },
    {
      "cell_type": "code",
      "source": [
        "def get_vectors(model, tagged_docs):\n",
        "    sents = tagged_docs.values\n",
        "    targets, regressors = zip(*[(doc.tags[0], model.infer_vector(doc.words, steps=20)) for doc in sents])\n",
        "    return targets, regressors"
      ],
      "metadata": {
        "id": "F2PuNyBkSQvV"
      },
      "execution_count": null,
      "outputs": []
    },
    {
      "cell_type": "code",
      "source": [
        "y_train, X_train = get_vectors(new_model, train_tagged)\n",
        "y_test, X_test = get_vectors(new_model, test_tagged)"
      ],
      "metadata": {
        "id": "NcT-SY3tTRUv"
      },
      "execution_count": null,
      "outputs": []
    },
    {
      "cell_type": "code",
      "source": [
        "logreg.fit(X_train, y_train)\n",
        "y_pred = logreg.predict(X_test)\n",
        "\n",
        "print('Testing Accuracy %s' % accuracy_score(y_test, y_pred))\n",
        "print('Testing F1 Score: {}'.format(f1_score(y_test, y_pred, average='weighted')))"
      ],
      "metadata": {
        "colab": {
          "base_uri": "https://localhost:8080/"
        },
        "id": "r_gbONF8TTPE",
        "outputId": "0d13e778-ac20-4f05-8207-7b5da7518a31"
      },
      "execution_count": null,
      "outputs": [
        {
          "output_type": "stream",
          "name": "stdout",
          "text": [
            "Testing accuracy 0.836036036036036\n",
            "Testing F1 score: 0.8363857635464658\n"
          ]
        }
      ]
    }
  ]
}
